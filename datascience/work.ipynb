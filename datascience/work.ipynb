{
 "cells": [
  {
   "cell_type": "code",
   "execution_count": 37,
   "id": "e0e1eec3",
   "metadata": {},
   "outputs": [
    {
     "name": "stdout",
     "output_type": "stream",
     "text": [
      "<class 'pandas.core.frame.DataFrame'>\n",
      "RangeIndex: 31 entries, 0 to 30\n",
      "Data columns (total 5 columns):\n",
      " #   Column    Non-Null Count  Dtype  \n",
      "---  ------    --------------  -----  \n",
      " 0   Duration  31 non-null     int64  \n",
      " 1   Date      29 non-null     object \n",
      " 2   Pulse     30 non-null     float64\n",
      " 3   Maxpulse  29 non-null     float64\n",
      " 4   Calories  27 non-null     float64\n",
      "dtypes: float64(3), int64(1), object(1)\n",
      "memory usage: 1.3+ KB\n",
      "    Duration         Date  Pulse  Maxpulse  Calories\n",
      "0         60  2023/10/01'  110.0     130.0     409.1\n",
      "1         60  2023/10/02'  117.0     145.0     479.0\n",
      "2         60  2023/10/03'  103.0     135.0     340.3\n",
      "3         45  2023/10/04'  109.0     175.0     282.4\n",
      "4         45  2023/10/05'  117.0     150.0     405.1\n",
      "5         60  2023/10/06'  103.0     125.0     300.0\n",
      "6         60  2023/10/07'  110.0     135.0     374.0\n",
      "7        400  2023/10/08'  114.0     133.0       NaN\n",
      "8         60  2023/10/09'  112.0     126.0     193.8\n",
      "9         30  2023/10/10'  102.0     147.0     234.8\n",
      "10        60  2023/10/11'  100.0     129.0     375.3\n",
      "11        60  2023/10/12'  109.0     131.0     345.6\n",
      "12        60  2023/10/13'  103.0     136.0     239.2\n",
      "13        60  2023/10/15'  120.0       NaN     240.8\n",
      "14        60  2023/10/15'  120.0     100.0     240.8\n",
      "15        60  2023/10/16'    NaN     101.0     243.8\n",
      "16        60  2023/10/17'  127.0     102.0     380.2\n",
      "17        45     20231018  142.0     103.0     241.4\n",
      "18        60  2023/10/19'  151.0     104.0       NaN\n",
      "19        60  2023/10/20'  162.0     105.0     300.9\n",
      "20        60  2023/10/21'  100.0     106.0     280.0\n",
      "21        60  2023/10/22'  103.0     107.0       NaN\n",
      "22        60          NaN  130.0     108.0     230.8\n",
      "23        60  2023/10/24'  134.0       NaN     239.7\n",
      "24        60  2023/10/25'  132.0     110.0     236.9\n",
      "25        60  2023/10/26'  135.0     118.0     278.8\n",
      "26        60  2023/10/27'  137.0     119.0     212.9\n",
      "27        60  2023/10/28'  138.0     121.0     345.9\n",
      "28        60  2023/10/29'  139.0     122.0     345.2\n",
      "29        60          NaN   92.0     125.0     380.5\n",
      "30        60  2023/10/31'   94.0     126.0       NaN\n"
     ]
    }
   ],
   "source": [
    "import pandas as pd\n",
    "import seaborn as sns\n",
    "import matplotlib.pyplot as plt\n",
    "df = pd.read_csv(\"Mine.csv\")\n",
    "\n",
    "df.info()\n",
    "print(df)\n"
   ]
  },
  {
   "cell_type": "code",
   "execution_count": 38,
   "id": "16b76fdf",
   "metadata": {},
   "outputs": [
    {
     "name": "stdout",
     "output_type": "stream",
     "text": [
      "<class 'pandas.core.frame.DataFrame'>\n",
      "RangeIndex: 31 entries, 0 to 30\n",
      "Data columns (total 5 columns):\n",
      " #   Column    Non-Null Count  Dtype         \n",
      "---  ------    --------------  -----         \n",
      " 0   Duration  31 non-null     int64         \n",
      " 1   Date      28 non-null     datetime64[ns]\n",
      " 2   Pulse     30 non-null     float64       \n",
      " 3   Maxpulse  29 non-null     float64       \n",
      " 4   Calories  27 non-null     float64       \n",
      "dtypes: datetime64[ns](1), float64(3), int64(1)\n",
      "memory usage: 1.3 KB\n",
      "    Duration       Date  Pulse  Maxpulse  Calories\n",
      "0         60 2023-10-01  110.0     130.0     409.1\n",
      "1         60 2023-10-02  117.0     145.0     479.0\n",
      "2         60 2023-10-03  103.0     135.0     340.3\n",
      "3         45 2023-10-04  109.0     175.0     282.4\n",
      "4         45 2023-10-05  117.0     150.0     405.1\n",
      "5         60 2023-10-06  103.0     125.0     300.0\n",
      "6         60 2023-10-07  110.0     135.0     374.0\n",
      "7        400 2023-10-08  114.0     133.0       NaN\n",
      "8         60 2023-10-09  112.0     126.0     193.8\n",
      "9         30 2023-10-10  102.0     147.0     234.8\n",
      "10        60 2023-10-11  100.0     129.0     375.3\n",
      "11        60 2023-10-12  109.0     131.0     345.6\n",
      "12        60 2023-10-13  103.0     136.0     239.2\n",
      "13        60 2023-10-15  120.0       NaN     240.8\n",
      "14        60 2023-10-15  120.0     100.0     240.8\n",
      "15        60 2023-10-16    NaN     101.0     243.8\n",
      "16        60 2023-10-17  127.0     102.0     380.2\n",
      "17        45        NaT  142.0     103.0     241.4\n",
      "18        60 2023-10-19  151.0     104.0       NaN\n",
      "19        60 2023-10-20  162.0     105.0     300.9\n",
      "20        60 2023-10-21  100.0     106.0     280.0\n",
      "21        60 2023-10-22  103.0     107.0       NaN\n",
      "22        60        NaT  130.0     108.0     230.8\n",
      "23        60 2023-10-24  134.0       NaN     239.7\n",
      "24        60 2023-10-25  132.0     110.0     236.9\n",
      "25        60 2023-10-26  135.0     118.0     278.8\n",
      "26        60 2023-10-27  137.0     119.0     212.9\n",
      "27        60 2023-10-28  138.0     121.0     345.9\n",
      "28        60 2023-10-29  139.0     122.0     345.2\n",
      "29        60        NaT   92.0     125.0     380.5\n",
      "30        60 2023-10-31   94.0     126.0       NaN\n"
     ]
    }
   ],
   "source": [
    "df['Date'] = df['Date'].astype(str)\n",
    "df['Date'] = pd.to_datetime(df['Date'], errors='coerce')\n",
    "df.info()\n",
    "print(df)"
   ]
  },
  {
   "cell_type": "code",
   "execution_count": 39,
   "id": "5ae3725f",
   "metadata": {},
   "outputs": [
    {
     "name": "stdout",
     "output_type": "stream",
     "text": [
      "    Duration       Date  Pulse  Maxpulse  Calories\n",
      "0         60 2023-10-01  110.0     130.0     409.1\n",
      "1         60 2023-10-02  117.0     145.0     479.0\n",
      "2         60 2023-10-03  103.0     135.0     340.3\n",
      "3         45 2023-10-04  109.0     175.0     282.4\n",
      "4         45 2023-10-05  117.0     150.0     405.1\n",
      "5         60 2023-10-06  103.0     125.0     300.0\n",
      "6         60 2023-10-07  110.0     135.0     374.0\n",
      "8         60 2023-10-09  112.0     126.0     193.8\n",
      "9         30 2023-10-10  102.0     147.0     234.8\n",
      "10        60 2023-10-11  100.0     129.0     375.3\n",
      "11        60 2023-10-12  109.0     131.0     345.6\n",
      "12        60 2023-10-13  103.0     136.0     239.2\n",
      "14        60 2023-10-15  120.0     100.0     240.8\n",
      "16        60 2023-10-17  127.0     102.0     380.2\n",
      "19        60 2023-10-20  162.0     105.0     300.9\n",
      "20        60 2023-10-21  100.0     106.0     280.0\n",
      "24        60 2023-10-25  132.0     110.0     236.9\n",
      "25        60 2023-10-26  135.0     118.0     278.8\n",
      "26        60 2023-10-27  137.0     119.0     212.9\n",
      "27        60 2023-10-28  138.0     121.0     345.9\n",
      "28        60 2023-10-29  139.0     122.0     345.2\n"
     ]
    }
   ],
   "source": [
    "df.dropna(axis=0, inplace=True)\n",
    "print(df)"
   ]
  },
  {
   "cell_type": "code",
   "execution_count": 40,
   "id": "80a9f617",
   "metadata": {},
   "outputs": [],
   "source": [
    "#check for non numeric values in numeric colums\n",
    "# for col in['Duration','Pulse','Maxpulse','Calories']:\n",
    "#     if not pd.to_numeric(df[col],errors='coerce').notnull().all():\n",
    "#  print(f\"Non-numeric values found in column:{col}\")       \n"
   ]
  },
  {
   "cell_type": "code",
   "execution_count": 41,
   "id": "9dc16cf2",
   "metadata": {},
   "outputs": [],
   "source": [
    "#wrong data\n",
    "# for col in['Duration','Pulse','Maxpulse','Calories']:\n",
    "#     if(df[col]<0).any():\n",
    "#         print(f\"Negative values found in column:{col}\")"
   ]
  },
  {
   "cell_type": "code",
   "execution_count": 42,
   "id": "f7c4db54",
   "metadata": {},
   "outputs": [],
   "source": [
    "#checking for duplicates\n",
    "# if duplicates.any():\n",
    "#     print(\"Duplicates found:\")\n",
    "#     print(df[duplicates])\n",
    "# else:\n",
    "#     print(\"no duplicates found.\")"
   ]
  },
  {
   "cell_type": "code",
   "execution_count": 43,
   "id": "ea45f8a3",
   "metadata": {},
   "outputs": [],
   "source": [
    "#recommendations\n",
    "#1.Handle empty values\n",
    "#2.Convert wrong formats\n",
    "#3.correct wrong data\n",
    "#4.remove duplicates in rows not in columns"
   ]
  },
  {
   "cell_type": "code",
   "execution_count": 44,
   "id": "a61c8b6f",
   "metadata": {},
   "outputs": [],
   "source": [
    "#fill empty values with mean for numeric columns\n",
    "# for col in ['Duration','Pulse','Maxpulse','Calories']:\n",
    "#     df[col].fillna(df[col].mean(), inplace=True)"
   ]
  },
  {
   "cell_type": "code",
   "execution_count": 45,
   "id": "359f4f7d",
   "metadata": {},
   "outputs": [],
   "source": [
    "#check shape of the dataset\n",
    "#print(\"shape of the dataset:\", df.shape)"
   ]
  },
  {
   "cell_type": "code",
   "execution_count": null,
   "id": "d9c867e4",
   "metadata": {},
   "outputs": [],
   "source": []
  },
  {
   "cell_type": "code",
   "execution_count": 46,
   "id": "a602b89c",
   "metadata": {},
   "outputs": [
    {
     "ename": "AttributeError",
     "evalue": "module 'matplotlib.pyplot' has no attribute 'tilte'",
     "output_type": "error",
     "traceback": [
      "\u001b[1;31m---------------------------------------------------------------------------\u001b[0m",
      "\u001b[1;31mAttributeError\u001b[0m                            Traceback (most recent call last)",
      "Cell \u001b[1;32mIn[46], line 5\u001b[0m\n\u001b[0;32m      3\u001b[0m plt\u001b[38;5;241m.\u001b[39msubplot(\u001b[38;5;241m2\u001b[39m,\u001b[38;5;241m2\u001b[39m,\u001b[38;5;241m1\u001b[39m)\n\u001b[0;32m      4\u001b[0m sns\u001b[38;5;241m.\u001b[39mhistplot(df[\u001b[38;5;124m'\u001b[39m\u001b[38;5;124mDuration\u001b[39m\u001b[38;5;124m'\u001b[39m],bins\u001b[38;5;241m=\u001b[39m\u001b[38;5;241m30\u001b[39m,kde\u001b[38;5;241m=\u001b[39m\u001b[38;5;28;01mTrue\u001b[39;00m)\n\u001b[1;32m----> 5\u001b[0m plt\u001b[38;5;241m.\u001b[39mtilte(\u001b[38;5;124m'\u001b[39m\u001b[38;5;124mDuration Distribution\u001b[39m\u001b[38;5;124m'\u001b[39m)\n",
      "\u001b[1;31mAttributeError\u001b[0m: module 'matplotlib.pyplot' has no attribute 'tilte'"
     ]
    },
    {
     "data": {
      "image/png": "[encoded data removed]",
      "text/plain": [
       "<Figure size 1500x1000 with 1 Axes>"
      ]
     },
     "metadata": {},
     "output_type": "display_data"
    }
   ],
   "source": [
    "#histogram of 'Duration'\"Individual Assignment.pdf\"\n",
    "plt.figure(figsize=(15,10))\n",
    "plt.subplot(2,2,1)\n",
    "sns.histplot(df['Duration'],bins=30,kde=True)\n",
    "plt.tilte('Duration Distribution')"
   ]
  },
  {
   "cell_type": "code",
   "execution_count": null,
   "id": "2c0f924a",
   "metadata": {},
   "outputs": [],
   "source": [
    "# to replace the date that is empty\n",
    "# df['Date'] = df['Date']. fillna(pd.to_datetime('2024-01-02'))\n",
    "# print(df.to_string())"
   ]
  },
  {
   "cell_type": "code",
   "execution_count": null,
   "id": "aa66361a",
   "metadata": {},
   "outputs": [],
   "source": [
    "# for x in df. index:\n",
    "#   if df.loc[x,\"Duration\"] <45:\n",
    "#       df.loc[x,\"Duration\"] = 45\n",
    "#       print(df.to_string())"
   ]
  },
  {
   "cell_type": "code",
   "execution_count": null,
   "id": "31c5cff7",
   "metadata": {},
   "outputs": [],
   "source": [
    "#removing rows\n",
    "# for x in df.index:\n",
    "#     if df.loc[x,\"Duration\"] < 50:\n",
    "#         df.drop(x, inplace= True)\n",
    "# print(df.to_string())        "
   ]
  },
  {
   "cell_type": "code",
   "execution_count": null,
   "id": "b94a42c7",
   "metadata": {},
   "outputs": [],
   "source": [
    "df.isnull()\n",
    "print(df.isnull())"
   ]
  },
  {
   "cell_type": "code",
   "execution_count": null,
   "id": "8daee6ba",
   "metadata": {},
   "outputs": [],
   "source": [
    "n=sns.displot(df,kind=\"kde\")\n",
    "plt.show()"
   ]
  },
  {
   "cell_type": "code",
   "execution_count": null,
   "id": "eefe7dab",
   "metadata": {},
   "outputs": [],
   "source": [
    "# import pandas as pd\n",
    "\n",
    "# health_data = pd.read_csv(\"data1.csv\", header=0, sep=\",\")\n",
    "# health_data.dropna(axis=0,inplace=True)\n",
    "\n",
    "# health_data[\"Average_Pulse\"] = health_data['Average_Pulse'].astype(float)\n",
    "# health_data[\"Max_Pulse\"] = health_data[\"Max_Pulse\"].astype(float)\n",
    "\n",
    "# print(health_data.info())\n"
   ]
  },
  {
   "cell_type": "code",
   "execution_count": null,
   "id": "76184f98",
   "metadata": {},
   "outputs": [],
   "source": [
    "#Scatter plot of 'Duration' vs 'Pulse'\n",
    "plt.figure(figsize=(15,10))\n",
    "plt.subplot(2,2,1)\n",
    "sns.scatterplot(x='Duration',y ='Pulse',data=df)\n",
    "plt.title('Duration vs Pulse')\n",
    "# Scatter plot of 'Pulse'\n",
    "# plt.subplot(2,2,2)\n",
    "# sns.scatterplot=(x='Pulse',y='Calories',data=df)\n",
    "# plt.title('Pulse vsCalories')"
   ]
  },
  {
   "cell_type": "code",
   "execution_count": null,
   "id": "887909c3",
   "metadata": {},
   "outputs": [],
   "source": [
    "#Correlation heatmap\n",
    "# corr=df.corr()\n",
    "# sns.heatmap(corr,annot=True, cmap='coolwarm', fmt='.2f')\n",
    "# plt.title('Correlation Heatmap')\n",
    "# plt.show()"
   ]
  }
 ],
 "metadata": {
  "kernelspec": {
   "display_name": "base",
   "language": "python",
   "name": "python3"
  },
  "language_info": {
   "codemirror_mode": {
    "name": "ipython",
    "version": 3
   },
   "file_extension": ".py",
   "mimetype": "text/x-python",
   "name": "python",
   "nbconvert_exporter": "python",
   "pygments_lexer": "ipython3",
   "version": "3.12.7"
  }
 },
 "nbformat": 4,
 "nbformat_minor": 5
}
