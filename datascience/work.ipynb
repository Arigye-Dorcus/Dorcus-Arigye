{
 "cells": [
  {
   "cell_type": "code",
   "execution_count": null,
   "id": "e0e1eec3",
   "metadata": {},
   "outputs": [],
   "source": [
    "import pandas as pd\n",
    "import seaborn as sns\n",
    "import matplotlib.pyplot as plt\n",
    "df = pd.read_csv(\"Mine.csv\")\n",
    "\n",
    "df.info()\n",
    "print(df)\n"
   ]
  },
  {
   "cell_type": "code",
   "execution_count": null,
   "id": "16b76fdf",
   "metadata": {},
   "outputs": [],
   "source": [
    "df['Date'] = df['Date'].astype(str)\n",
    "df['Date'] = pd.to_datetime(df['Date'], errors='coerce')\n",
    "df.info()\n",
    "print(df)"
   ]
  },
  {
   "cell_type": "code",
   "execution_count": null,
   "id": "5ae3725f",
   "metadata": {},
   "outputs": [],
   "source": [
    "df.dropna(axis=0, inplace=True)\n",
    "print(df)"
   ]
  },
  {
   "cell_type": "code",
   "execution_count": null,
   "id": "80a9f617",
   "metadata": {},
   "outputs": [],
   "source": [
    "#check for non numeric values in numeric colums\n",
    "# for col in['Duration','Pulse','Maxpulse','Calories']:\n",
    "#     if not pd.to_numeric(df[col],errors='coerce').notnull().all():\n",
    "#  print(f\"Non-numeric values found in column:{col}\")       \n"
   ]
  },
  {
   "cell_type": "code",
   "execution_count": null,
   "id": "9dc16cf2",
   "metadata": {},
   "outputs": [],
   "source": [
    "#wrong data\n",
    "# for col in['Duration','Pulse','Maxpulse','Calories']:\n",
    "#     if(df[col]<0).any():\n",
    "#         print(f\"Negative values found in column:{col}\")"
   ]
  },
  {
   "cell_type": "code",
   "execution_count": null,
   "id": "f7c4db54",
   "metadata": {},
   "outputs": [],
   "source": [
    "#checking for duplicates\n",
    "# if duplicates.any():\n",
    "#     print(\"Duplicates found:\")\n",
    "#     print(df[duplicates])\n",
    "# else:\n",
    "#     print(\"no duplicates found.\")"
   ]
  },
  {
   "cell_type": "code",
   "execution_count": null,
   "id": "ea45f8a3",
   "metadata": {},
   "outputs": [],
   "source": [
    "#recommendations\n",
    "#1.Handle empty values\n",
    "#2.Convert wrong formats\n",
    "#3.correct wrong data\n",
    "#4.remove duplicates in rows not in columns"
   ]
  },
  {
   "cell_type": "code",
   "execution_count": null,
   "id": "a61c8b6f",
   "metadata": {},
   "outputs": [],
   "source": [
    "#fill empty values with mean for numeric columns\n",
    "# for col in ['Duration','Pulse','Maxpulse','Calories']:\n",
    "#     df[col].fillna(df[col].mean(), inplace=True)"
   ]
  },
  {
   "cell_type": "code",
   "execution_count": null,
   "id": "359f4f7d",
   "metadata": {},
   "outputs": [],
   "source": [
    "#check shape of the dataset\n",
    "#print(\"shape of the dataset:\", df.shape)"
   ]
  },
  {
   "cell_type": "code",
   "execution_count": null,
   "id": "d9c867e4",
   "metadata": {},
   "outputs": [],
   "source": []
  },
  {
   "cell_type": "code",
   "execution_count": 2,
   "id": "a602b89c",
   "metadata": {},
   "outputs": [
    {
     "ename": "NameError",
     "evalue": "name 'plt' is not defined",
     "output_type": "error",
     "traceback": [
      "\u001b[1;31m---------------------------------------------------------------------------\u001b[0m",
      "\u001b[1;31mNameError\u001b[0m                                 Traceback (most recent call last)",
      "Cell \u001b[1;32mIn[2], line 2\u001b[0m\n\u001b[0;32m      1\u001b[0m \u001b[38;5;66;03m#histogram of 'Duration'\"Individual Assignment.pdf\"\u001b[39;00m\n\u001b[1;32m----> 2\u001b[0m plt\u001b[38;5;241m.\u001b[39mfigure(figsize\u001b[38;5;241m=\u001b[39m(\u001b[38;5;241m15\u001b[39m,\u001b[38;5;241m10\u001b[39m))\n\u001b[0;32m      3\u001b[0m plt\u001b[38;5;241m.\u001b[39msubplot(\u001b[38;5;241m2\u001b[39m,\u001b[38;5;241m2\u001b[39m,\u001b[38;5;241m1\u001b[39m)\n\u001b[0;32m      4\u001b[0m sns\u001b[38;5;241m.\u001b[39mhistplot(df[\u001b[38;5;124m'\u001b[39m\u001b[38;5;124mDuration\u001b[39m\u001b[38;5;124m'\u001b[39m],bins\u001b[38;5;241m=\u001b[39m\u001b[38;5;241m30\u001b[39m,kde\u001b[38;5;241m=\u001b[39m\u001b[38;5;28;01mTrue\u001b[39;00m)\n",
      "\u001b[1;31mNameError\u001b[0m: name 'plt' is not defined"
     ]
    }
   ],
   "source": [
    "#histogram of 'Duration'\"Individual Assignment.pdf\"\n",
    "plt.figure(figsize=(15,10))\n",
    "plt.subplot(2,2,1)\n",
    "sns.histplot(df['Duration'],bins=30,kde=True)\n",
    "plt.tilte('Duration Distribution')"
   ]
  },
  {
   "cell_type": "code",
   "execution_count": null,
   "id": "2c0f924a",
   "metadata": {},
   "outputs": [],
   "source": [
    "# to replace the date that is empty\n",
    "# df['Date'] = df['Date']. fillna(pd.to_datetime('2024-01-02'))\n",
    "# print(df.to_string())"
   ]
  },
  {
   "cell_type": "code",
   "execution_count": null,
   "id": "aa66361a",
   "metadata": {},
   "outputs": [],
   "source": [
    "# for x in df. index:\n",
    "#   if df.loc[x,\"Duration\"] <45:\n",
    "#       df.loc[x,\"Duration\"] = 45\n",
    "#       print(df.to_string())"
   ]
  },
  {
   "cell_type": "code",
   "execution_count": null,
   "id": "31c5cff7",
   "metadata": {},
   "outputs": [],
   "source": [
    "#removing rows\n",
    "# for x in df.index:\n",
    "#     if df.loc[x,\"Duration\"] < 50:\n",
    "#         df.drop(x, inplace= True)\n",
    "# print(df.to_string())        "
   ]
  },
  {
   "cell_type": "code",
   "execution_count": null,
   "id": "b94a42c7",
   "metadata": {},
   "outputs": [],
   "source": [
    "df.isnull()\n",
    "print(df.isnull())"
   ]
  },
  {
   "cell_type": "code",
   "execution_count": null,
   "id": "8daee6ba",
   "metadata": {},
   "outputs": [],
   "source": [
    "n=sns.displot(df,kind=\"kde\")\n",
    "plt.show()"
   ]
  },
  {
   "cell_type": "code",
   "execution_count": null,
   "id": "eefe7dab",
   "metadata": {},
   "outputs": [],
   "source": [
    "import pandas as pd\n",
    "\n",
    "health_data = pd.read_csv(\"data1.csv\", header=0, sep=\",\")\n",
    "health_data.dropna(axis=0,inplace=True)\n",
    "\n",
    "health_data[\"Average_Pulse\"] = health_data['Average_Pulse'].astype(float)\n",
    "health_data[\"Max_Pulse\"] = health_data[\"Max_Pulse\"].astype(float)\n",
    "\n",
    "print(health_data.info())\n"
   ]
  }
 ],
 "metadata": {
  "kernelspec": {
   "display_name": "base",
   "language": "python",
   "name": "python3"
  },
  "language_info": {
   "codemirror_mode": {
    "name": "ipython",
    "version": 3
   },
   "file_extension": ".py",
   "mimetype": "text/x-python",
   "name": "python",
   "nbconvert_exporter": "python",
   "pygments_lexer": "ipython3",
   "version": "3.12.7"
  }
 },
 "nbformat": 4,
 "nbformat_minor": 5
}
