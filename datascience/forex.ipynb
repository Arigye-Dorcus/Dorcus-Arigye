{
 "cells": [
  {
   "cell_type": "code",
   "execution_count": 3,
   "id": "46285fa2",
   "metadata": {},
   "outputs": [
    {
     "name": "stdout",
     "output_type": "stream",
     "text": [
      "<class 'pandas.core.frame.DataFrame'>\n",
      "RangeIndex: 229 entries, 0 to 228\n",
      "Data columns (total 10 columns):\n",
      " #   Column           Non-Null Count  Dtype  \n",
      "---  ------           --------------  -----  \n",
      " 0   Date             226 non-null    object \n",
      " 1   Open             224 non-null    float64\n",
      " 2   High             220 non-null    float64\n",
      " 3   Low              225 non-null    float64\n",
      " 4   Close            212 non-null    float64\n",
      " 5   Volume           226 non-null    object \n",
      " 6   Predicted_Close  222 non-null    float64\n",
      " 7   Currency_Pair    229 non-null    object \n",
      " 8   Signal           227 non-null    object \n",
      " 9   Confidence       218 non-null    float64\n",
      "dtypes: float64(6), object(4)\n",
      "memory usage: 18.0+ KB\n",
      "           Date     Open     High      Low    Close Volume  Predicted_Close  \\\n",
      "0    2024-01-01  1.18727  1.92461  0.85312  1.18154   2201          1.22984   \n",
      "1    2024-01-02  1.47536  1.82881  0.54067  1.32296  error          1.03797   \n",
      "2    2024-01-03  1.36600  1.78415  0.54242  1.28539   4420          1.03888   \n",
      "3    2024-01-04  1.29933  1.54684  0.99332  1.17805   4079          1.00117   \n",
      "4    2024-01-05  1.07801  1.68386  0.68714      NaN   1832          1.48385   \n",
      "..          ...      ...      ...      ...      ...    ...              ...   \n",
      "224  2024-04-14  1.45378  1.63997  0.61432  1.15586  error          1.11528   \n",
      "225  2024-06-20  1.00829  1.99525  0.84520      NaN   4850          1.23274   \n",
      "226  2024-07-27  1.00253  1.94385      NaN  1.27982   2524          1.49507   \n",
      "227  2024-03-16  1.36450  1.56353  0.93303  1.33260   2757          1.04585   \n",
      "228  2024-05-21  1.12589  1.69408  0.62912      NaN   1730          1.00254   \n",
      "\n",
      "    Currency_Pair Signal  Confidence  \n",
      "0         EUR/USD   Hold        0.90  \n",
      "1         EUR/USD   Sell         NaN  \n",
      "2         EUR/USD   Sell         NaN  \n",
      "3         EUR/USD   Sell        0.64  \n",
      "4         EUR/USD   Sell        0.68  \n",
      "..            ...    ...         ...  \n",
      "224       EUR/USD   Hold        0.83  \n",
      "225       EUR/USD   Hold        0.96  \n",
      "226       EUR/USD   Sell        0.93  \n",
      "227       EUR/USD   Sell        0.76  \n",
      "228       EUR/USD    Buy        0.75  \n",
      "\n",
      "[229 rows x 10 columns]\n"
     ]
    }
   ],
   "source": [
    "import pandas as pd\n",
    "import seaborn as sns\n",
    "import matplotlib.pyplot as plt\n",
    "df = pd.read_csv(\"forex_predictions_data (1).csv\")\n",
    "\n",
    "df.info()\n",
    "print(df)"
   ]
  }
 ],
 "metadata": {
  "kernelspec": {
   "display_name": "base",
   "language": "python",
   "name": "python3"
  },
  "language_info": {
   "codemirror_mode": {
    "name": "ipython",
    "version": 3
   },
   "file_extension": ".py",
   "mimetype": "text/x-python",
   "name": "python",
   "nbconvert_exporter": "python",
   "pygments_lexer": "ipython3",
   "version": "3.12.7"
  }
 },
 "nbformat": 4,
 "nbformat_minor": 5
}
