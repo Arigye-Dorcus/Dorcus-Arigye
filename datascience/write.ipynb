{
 "cells": [
  {
   "cell_type": "code",
   "execution_count": 41,
   "id": "9584f722",
   "metadata": {},
   "outputs": [
    {
     "name": "stdout",
     "output_type": "stream",
     "text": [
      "welcome here.\n",
      "welcome here.\n",
      "welcome here.\n",
      "welcome here.\n",
      "welcome here.\n",
      "welcome here.\n",
      "welcome here.\n",
      "\n"
     ]
    }
   ],
   "source": [
    "with open(\"okay.txt\", \"a\")as file:\n",
    "    file.write(\"welcome here.\\n\")\n",
    "with open(\"okay.txt\",\"r\") as file:\n",
    "    content = file.read()\n",
    "    print(content)"
   ]
  },
  {
   "cell_type": "code",
   "execution_count": 42,
   "id": "92d5e56c",
   "metadata": {},
   "outputs": [
    {
     "name": "stdout",
     "output_type": "stream",
     "text": [
      "<class 'pandas.core.frame.DataFrame'>\n",
      "RangeIndex: 8 entries, 0 to 7\n",
      "Data columns (total 7 columns):\n",
      " #   Column         Non-Null Count  Dtype  \n",
      "---  ------         --------------  -----  \n",
      " 0   Order ID       8 non-null      int64  \n",
      " 1   Customer Name  7 non-null      object \n",
      " 2   Order Date     8 non-null      object \n",
      " 3   Product        8 non-null      object \n",
      " 4   Quantity       7 non-null      float64\n",
      " 5   Unit Price     7 non-null      float64\n",
      " 6   Total Revenue  7 non-null      float64\n",
      "dtypes: float64(3), int64(1), object(3)\n",
      "memory usage: 580.0+ bytes\n",
      "   Order ID  Customer Name   Order Date   Product  Quantity  Unit Price  \\\n",
      "0      1001       John Doe   01/01/2024  Widget A      10.0        25.0   \n",
      "1      1002     Jane Smith   01/02/2024  Widget B       5.0        40.0   \n",
      "2      1003            NaN  2024/01/03'  Widget A       NaN        25.0   \n",
      "3      1004  Alice Johnson   04/01/2024  Widget C       3.0         NaN   \n",
      "4      1005      Bob Brown  2024/01/05'  Widget B      10.0        40.0   \n",
      "5      1006       John Doe   06/01/2024  Widget A       4.0        25.0   \n",
      "6      1001       John Doe   01/01/2024  Widget A      10.0        25.0   \n",
      "7      1007     Jane Smith   07/01/2024  Widget C      -6.0        70.0   \n",
      "\n",
      "   Total Revenue  \n",
      "0          250.0  \n",
      "1          200.0  \n",
      "2            NaN  \n",
      "3          210.0  \n",
      "4          400.0  \n",
      "5          100.0  \n",
      "6          250.0  \n",
      "7         -420.0  \n"
     ]
    }
   ],
   "source": [
    "import pandas as pd\n",
    "df = pd.read_csv('Sales.csv')\n",
    "df.info()\n",
    "print(df)\n"
   ]
  },
  {
   "cell_type": "code",
   "execution_count": 43,
   "id": "ef01bc61",
   "metadata": {},
   "outputs": [
    {
     "name": "stdout",
     "output_type": "stream",
     "text": [
      "<class 'pandas.core.frame.DataFrame'>\n",
      "RangeIndex: 8 entries, 0 to 7\n",
      "Data columns (total 7 columns):\n",
      " #   Column         Non-Null Count  Dtype         \n",
      "---  ------         --------------  -----         \n",
      " 0   Order ID       8 non-null      int64         \n",
      " 1   Customer Name  7 non-null      object        \n",
      " 2   Order Date     6 non-null      datetime64[ns]\n",
      " 3   Product        8 non-null      object        \n",
      " 4   Quantity       7 non-null      float64       \n",
      " 5   Unit Price     7 non-null      float64       \n",
      " 6   Total Revenue  7 non-null      float64       \n",
      "dtypes: datetime64[ns](1), float64(3), int64(1), object(2)\n",
      "memory usage: 580.0+ bytes\n",
      "   Order ID  Customer Name Order Date   Product  Quantity  Unit Price  \\\n",
      "0      1001       John Doe 2024-01-01  Widget A      10.0        25.0   \n",
      "1      1002     Jane Smith 2024-01-02  Widget B       5.0        40.0   \n",
      "2      1003            NaN        NaT  Widget A       NaN        25.0   \n",
      "3      1004  Alice Johnson 2024-04-01  Widget C       3.0         NaN   \n",
      "4      1005      Bob Brown        NaT  Widget B      10.0        40.0   \n",
      "5      1006       John Doe 2024-06-01  Widget A       4.0        25.0   \n",
      "6      1001       John Doe 2024-01-01  Widget A      10.0        25.0   \n",
      "7      1007     Jane Smith 2024-07-01  Widget C      -6.0        70.0   \n",
      "\n",
      "   Total Revenue  \n",
      "0          250.0  \n",
      "1          200.0  \n",
      "2            NaN  \n",
      "3          210.0  \n",
      "4          400.0  \n",
      "5          100.0  \n",
      "6          250.0  \n",
      "7         -420.0  \n"
     ]
    }
   ],
   "source": [
    "df['Order Date'] = df['Order Date'].astype(str)\n",
    "df['Order Date'] = pd.to_datetime(df['Order Date'], errors='coerce')\n",
    "df.info()\n",
    "print(df)"
   ]
  },
  {
   "cell_type": "code",
   "execution_count": 44,
   "id": "702056d4",
   "metadata": {},
   "outputs": [
    {
     "name": "stdout",
     "output_type": "stream",
     "text": [
      "<class 'pandas.core.frame.DataFrame'>\n",
      "RangeIndex: 8 entries, 0 to 7\n",
      "Data columns (total 7 columns):\n",
      " #   Column         Non-Null Count  Dtype         \n",
      "---  ------         --------------  -----         \n",
      " 0   Order ID       8 non-null      int64         \n",
      " 1   Customer Name  7 non-null      object        \n",
      " 2   Order Date     6 non-null      datetime64[ns]\n",
      " 3   Product        8 non-null      object        \n",
      " 4   Quantity       7 non-null      float64       \n",
      " 5   Unit Price     7 non-null      float64       \n",
      " 6   Total Revenue  7 non-null      float64       \n",
      "dtypes: datetime64[ns](1), float64(3), int64(1), object(2)\n",
      "memory usage: 580.0+ bytes\n",
      "   Order ID  Customer Name Order Date   Product  Quantity  Unit Price  \\\n",
      "0      1001       John Doe 2024-01-01  Widget A      10.0        25.0   \n",
      "1      1002     Jane Smith 2024-01-02  Widget B       5.0        40.0   \n",
      "2      1003            NaN        NaT  Widget A       NaN        25.0   \n",
      "3      1004  Alice Johnson 2024-04-01  Widget C       3.0         NaN   \n",
      "4      1005      Bob Brown        NaT  Widget B      10.0        40.0   \n",
      "5      1006       John Doe 2024-06-01  Widget A       4.0        25.0   \n",
      "6      1001       John Doe 2024-01-01  Widget A      10.0        25.0   \n",
      "7      1007     Jane Smith 2024-07-01  Widget C      -6.0        70.0   \n",
      "\n",
      "   Total Revenue  \n",
      "0          250.0  \n",
      "1          200.0  \n",
      "2            NaN  \n",
      "3          210.0  \n",
      "4          400.0  \n",
      "5          100.0  \n",
      "6          250.0  \n",
      "7         -420.0  \n"
     ]
    }
   ],
   "source": [
    "df['Quantity'] = df['Quantity'].astype(float)\n",
    "df.info()\n",
    "print(df)"
   ]
  },
  {
   "cell_type": "code",
   "execution_count": 45,
   "id": "45805c34",
   "metadata": {},
   "outputs": [
    {
     "name": "stdout",
     "output_type": "stream",
     "text": [
      "   Order ID  Customer Name Order Date   Product  Quantity  Unit Price  \\\n",
      "0      1001       John Doe 2024-01-01  Widget A      10.0        25.0   \n",
      "1      1002     Jane Smith 2024-01-02  Widget B       5.0        40.0   \n",
      "2      1003            NaN        NaT  Widget A       NaN        25.0   \n",
      "3      1004  Alice Johnson 2024-04-01  Widget C       3.0         NaN   \n",
      "4      1005      Bob Brown        NaT  Widget B      10.0        40.0   \n",
      "5      1006       John Doe 2024-06-01  Widget A       4.0        25.0   \n",
      "6      1001       John Doe 2024-01-01  Widget A      10.0        25.0   \n",
      "\n",
      "   Total Revenue  \n",
      "0          250.0  \n",
      "1          200.0  \n",
      "2            NaN  \n",
      "3          210.0  \n",
      "4          400.0  \n",
      "5          100.0  \n",
      "6          250.0  \n"
     ]
    }
   ],
   "source": [
    "x = df.drop(index=7)\n",
    "print(x)"
   ]
  },
  {
   "cell_type": "code",
   "execution_count": null,
   "id": "1686e522",
   "metadata": {},
   "outputs": [],
   "source": [
    "#checking for empty cells\n",
    "#print(df.isnull().sum())"
   ]
  },
  {
   "cell_type": "code",
   "execution_count": null,
   "id": "95e08a50",
   "metadata": {},
   "outputs": [],
   "source": [
    "#checking for wrong formats"
   ]
  },
  {
   "cell_type": "code",
   "execution_count": null,
   "id": "1bdd0501",
   "metadata": {},
   "outputs": [],
   "source": [
    "#checking for non numeric values \n"
   ]
  },
  {
   "cell_type": "code",
   "execution_count": 46,
   "id": "9d9ea805",
   "metadata": {},
   "outputs": [
    {
     "name": "stdout",
     "output_type": "stream",
     "text": [
      "   Order ID Customer Name Order Date   Product  Quantity  Unit Price  \\\n",
      "0      1001      John Doe 2024-01-01  Widget A      10.0        25.0   \n",
      "1      1002    Jane Smith 2024-01-02  Widget B       5.0        40.0   \n",
      "5      1006      John Doe 2024-06-01  Widget A       4.0        25.0   \n",
      "6      1001      John Doe 2024-01-01  Widget A      10.0        25.0   \n",
      "7      1007    Jane Smith 2024-07-01  Widget C      -6.0        70.0   \n",
      "\n",
      "   Total Revenue  \n",
      "0          250.0  \n",
      "1          200.0  \n",
      "5          100.0  \n",
      "6          250.0  \n",
      "7         -420.0  \n"
     ]
    }
   ],
   "source": [
    "df.dropna(axis=0, inplace=True)\n",
    "print(df)"
   ]
  },
  {
   "cell_type": "code",
   "execution_count": 47,
   "id": "abd6d5e1",
   "metadata": {},
   "outputs": [
    {
     "name": "stdout",
     "output_type": "stream",
     "text": [
      "<class 'pandas.core.frame.DataFrame'>\n",
      "Index: 4 entries, 0 to 7\n",
      "Data columns (total 7 columns):\n",
      " #   Column         Non-Null Count  Dtype         \n",
      "---  ------         --------------  -----         \n",
      " 0   Order ID       4 non-null      int64         \n",
      " 1   Customer Name  4 non-null      object        \n",
      " 2   Order Date     4 non-null      datetime64[ns]\n",
      " 3   Product        4 non-null      object        \n",
      " 4   Quantity       4 non-null      float64       \n",
      " 5   Unit Price     4 non-null      float64       \n",
      " 6   Total Revenue  4 non-null      float64       \n",
      "dtypes: datetime64[ns](1), float64(3), int64(1), object(2)\n",
      "memory usage: 256.0+ bytes\n",
      "   Order ID Customer Name Order Date   Product  Quantity  Unit Price  \\\n",
      "0      1001      John Doe 2024-01-01  Widget A      10.0        25.0   \n",
      "1      1002    Jane Smith 2024-01-02  Widget B       5.0        40.0   \n",
      "5      1006      John Doe 2024-06-01  Widget A       4.0        25.0   \n",
      "7      1007    Jane Smith 2024-07-01  Widget C      -6.0        70.0   \n",
      "\n",
      "   Total Revenue  \n",
      "0          250.0  \n",
      "1          200.0  \n",
      "5          100.0  \n",
      "7         -420.0  \n"
     ]
    }
   ],
   "source": [
    "df = df.drop_duplicates()\n",
    "df.info()\n",
    "print(df)"
   ]
  }
 ],
 "metadata": {
  "kernelspec": {
   "display_name": "base",
   "language": "python",
   "name": "python3"
  },
  "language_info": {
   "codemirror_mode": {
    "name": "ipython",
    "version": 3
   },
   "file_extension": ".py",
   "mimetype": "text/x-python",
   "name": "python",
   "nbconvert_exporter": "python",
   "pygments_lexer": "ipython3",
   "version": "3.12.7"
  }
 },
 "nbformat": 4,
 "nbformat_minor": 5
}
